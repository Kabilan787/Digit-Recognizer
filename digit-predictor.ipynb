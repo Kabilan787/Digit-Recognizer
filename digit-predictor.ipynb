{
 "cells": [
  {
   "cell_type": "code",
   "execution_count": 1,
   "id": "ac050fcd",
   "metadata": {
    "_cell_guid": "b1076dfc-b9ad-4769-8c92-a6c4dae69d19",
    "_uuid": "8f2839f25d086af736a60e9eeb907d3b93b6e0e5",
    "execution": {
     "iopub.execute_input": "2024-05-12T13:41:58.071472Z",
     "iopub.status.busy": "2024-05-12T13:41:58.070883Z",
     "iopub.status.idle": "2024-05-12T13:41:58.737939Z",
     "shell.execute_reply": "2024-05-12T13:41:58.737305Z"
    },
    "papermill": {
     "duration": 0.673748,
     "end_time": "2024-05-12T13:41:58.739791",
     "exception": false,
     "start_time": "2024-05-12T13:41:58.066043",
     "status": "completed"
    },
    "tags": []
   },
   "outputs": [],
   "source": [
    "import numpy as np\n",
    "import pandas as pd\n",
    "from matplotlib import pyplot as plt"
   ]
  },
  {
   "cell_type": "code",
   "execution_count": 2,
   "id": "76e8c7da",
   "metadata": {
    "execution": {
     "iopub.execute_input": "2024-05-12T13:41:58.747127Z",
     "iopub.status.busy": "2024-05-12T13:41:58.746780Z",
     "iopub.status.idle": "2024-05-12T13:42:01.288482Z",
     "shell.execute_reply": "2024-05-12T13:42:01.287870Z"
    },
    "papermill": {
     "duration": 2.547399,
     "end_time": "2024-05-12T13:42:01.290303",
     "exception": false,
     "start_time": "2024-05-12T13:41:58.742904",
     "status": "completed"
    },
    "tags": []
   },
   "outputs": [],
   "source": [
    "data=pd.read_csv('/kaggle/input/digit-recognizer/train.csv')"
   ]
  },
  {
   "cell_type": "code",
   "execution_count": 3,
   "id": "085ff831",
   "metadata": {
    "execution": {
     "iopub.execute_input": "2024-05-12T13:42:01.296823Z",
     "iopub.status.busy": "2024-05-12T13:42:01.296560Z",
     "iopub.status.idle": "2024-05-12T13:42:01.314817Z",
     "shell.execute_reply": "2024-05-12T13:42:01.313907Z"
    },
    "papermill": {
     "duration": 0.023656,
     "end_time": "2024-05-12T13:42:01.316848",
     "exception": false,
     "start_time": "2024-05-12T13:42:01.293192",
     "status": "completed"
    },
    "tags": []
   },
   "outputs": [
    {
     "data": {
      "text/html": [
       "<div>\n",
       "<style scoped>\n",
       "    .dataframe tbody tr th:only-of-type {\n",
       "        vertical-align: middle;\n",
       "    }\n",
       "\n",
       "    .dataframe tbody tr th {\n",
       "        vertical-align: top;\n",
       "    }\n",
       "\n",
       "    .dataframe thead th {\n",
       "        text-align: right;\n",
       "    }\n",
       "</style>\n",
       "<table border=\"1\" class=\"dataframe\">\n",
       "  <thead>\n",
       "    <tr style=\"text-align: right;\">\n",
       "      <th></th>\n",
       "      <th>label</th>\n",
       "      <th>pixel0</th>\n",
       "      <th>pixel1</th>\n",
       "      <th>pixel2</th>\n",
       "      <th>pixel3</th>\n",
       "      <th>pixel4</th>\n",
       "      <th>pixel5</th>\n",
       "      <th>pixel6</th>\n",
       "      <th>pixel7</th>\n",
       "      <th>pixel8</th>\n",
       "      <th>...</th>\n",
       "      <th>pixel774</th>\n",
       "      <th>pixel775</th>\n",
       "      <th>pixel776</th>\n",
       "      <th>pixel777</th>\n",
       "      <th>pixel778</th>\n",
       "      <th>pixel779</th>\n",
       "      <th>pixel780</th>\n",
       "      <th>pixel781</th>\n",
       "      <th>pixel782</th>\n",
       "      <th>pixel783</th>\n",
       "    </tr>\n",
       "  </thead>\n",
       "  <tbody>\n",
       "    <tr>\n",
       "      <th>0</th>\n",
       "      <td>1</td>\n",
       "      <td>0</td>\n",
       "      <td>0</td>\n",
       "      <td>0</td>\n",
       "      <td>0</td>\n",
       "      <td>0</td>\n",
       "      <td>0</td>\n",
       "      <td>0</td>\n",
       "      <td>0</td>\n",
       "      <td>0</td>\n",
       "      <td>...</td>\n",
       "      <td>0</td>\n",
       "      <td>0</td>\n",
       "      <td>0</td>\n",
       "      <td>0</td>\n",
       "      <td>0</td>\n",
       "      <td>0</td>\n",
       "      <td>0</td>\n",
       "      <td>0</td>\n",
       "      <td>0</td>\n",
       "      <td>0</td>\n",
       "    </tr>\n",
       "    <tr>\n",
       "      <th>1</th>\n",
       "      <td>0</td>\n",
       "      <td>0</td>\n",
       "      <td>0</td>\n",
       "      <td>0</td>\n",
       "      <td>0</td>\n",
       "      <td>0</td>\n",
       "      <td>0</td>\n",
       "      <td>0</td>\n",
       "      <td>0</td>\n",
       "      <td>0</td>\n",
       "      <td>...</td>\n",
       "      <td>0</td>\n",
       "      <td>0</td>\n",
       "      <td>0</td>\n",
       "      <td>0</td>\n",
       "      <td>0</td>\n",
       "      <td>0</td>\n",
       "      <td>0</td>\n",
       "      <td>0</td>\n",
       "      <td>0</td>\n",
       "      <td>0</td>\n",
       "    </tr>\n",
       "    <tr>\n",
       "      <th>2</th>\n",
       "      <td>1</td>\n",
       "      <td>0</td>\n",
       "      <td>0</td>\n",
       "      <td>0</td>\n",
       "      <td>0</td>\n",
       "      <td>0</td>\n",
       "      <td>0</td>\n",
       "      <td>0</td>\n",
       "      <td>0</td>\n",
       "      <td>0</td>\n",
       "      <td>...</td>\n",
       "      <td>0</td>\n",
       "      <td>0</td>\n",
       "      <td>0</td>\n",
       "      <td>0</td>\n",
       "      <td>0</td>\n",
       "      <td>0</td>\n",
       "      <td>0</td>\n",
       "      <td>0</td>\n",
       "      <td>0</td>\n",
       "      <td>0</td>\n",
       "    </tr>\n",
       "    <tr>\n",
       "      <th>3</th>\n",
       "      <td>4</td>\n",
       "      <td>0</td>\n",
       "      <td>0</td>\n",
       "      <td>0</td>\n",
       "      <td>0</td>\n",
       "      <td>0</td>\n",
       "      <td>0</td>\n",
       "      <td>0</td>\n",
       "      <td>0</td>\n",
       "      <td>0</td>\n",
       "      <td>...</td>\n",
       "      <td>0</td>\n",
       "      <td>0</td>\n",
       "      <td>0</td>\n",
       "      <td>0</td>\n",
       "      <td>0</td>\n",
       "      <td>0</td>\n",
       "      <td>0</td>\n",
       "      <td>0</td>\n",
       "      <td>0</td>\n",
       "      <td>0</td>\n",
       "    </tr>\n",
       "    <tr>\n",
       "      <th>4</th>\n",
       "      <td>0</td>\n",
       "      <td>0</td>\n",
       "      <td>0</td>\n",
       "      <td>0</td>\n",
       "      <td>0</td>\n",
       "      <td>0</td>\n",
       "      <td>0</td>\n",
       "      <td>0</td>\n",
       "      <td>0</td>\n",
       "      <td>0</td>\n",
       "      <td>...</td>\n",
       "      <td>0</td>\n",
       "      <td>0</td>\n",
       "      <td>0</td>\n",
       "      <td>0</td>\n",
       "      <td>0</td>\n",
       "      <td>0</td>\n",
       "      <td>0</td>\n",
       "      <td>0</td>\n",
       "      <td>0</td>\n",
       "      <td>0</td>\n",
       "    </tr>\n",
       "  </tbody>\n",
       "</table>\n",
       "<p>5 rows × 785 columns</p>\n",
       "</div>"
      ],
      "text/plain": [
       "   label  pixel0  pixel1  pixel2  pixel3  pixel4  pixel5  pixel6  pixel7  \\\n",
       "0      1       0       0       0       0       0       0       0       0   \n",
       "1      0       0       0       0       0       0       0       0       0   \n",
       "2      1       0       0       0       0       0       0       0       0   \n",
       "3      4       0       0       0       0       0       0       0       0   \n",
       "4      0       0       0       0       0       0       0       0       0   \n",
       "\n",
       "   pixel8  ...  pixel774  pixel775  pixel776  pixel777  pixel778  pixel779  \\\n",
       "0       0  ...         0         0         0         0         0         0   \n",
       "1       0  ...         0         0         0         0         0         0   \n",
       "2       0  ...         0         0         0         0         0         0   \n",
       "3       0  ...         0         0         0         0         0         0   \n",
       "4       0  ...         0         0         0         0         0         0   \n",
       "\n",
       "   pixel780  pixel781  pixel782  pixel783  \n",
       "0         0         0         0         0  \n",
       "1         0         0         0         0  \n",
       "2         0         0         0         0  \n",
       "3         0         0         0         0  \n",
       "4         0         0         0         0  \n",
       "\n",
       "[5 rows x 785 columns]"
      ]
     },
     "execution_count": 3,
     "metadata": {},
     "output_type": "execute_result"
    }
   ],
   "source": [
    "data.head()"
   ]
  },
  {
   "cell_type": "code",
   "execution_count": 4,
   "id": "e58910f4",
   "metadata": {
    "execution": {
     "iopub.execute_input": "2024-05-12T13:42:01.324136Z",
     "iopub.status.busy": "2024-05-12T13:42:01.323927Z",
     "iopub.status.idle": "2024-05-12T13:42:01.716060Z",
     "shell.execute_reply": "2024-05-12T13:42:01.715233Z"
    },
    "papermill": {
     "duration": 0.398024,
     "end_time": "2024-05-12T13:42:01.718196",
     "exception": false,
     "start_time": "2024-05-12T13:42:01.320172",
     "status": "completed"
    },
    "tags": []
   },
   "outputs": [],
   "source": [
    "data = np.array(data)\n",
    "m, n = data.shape\n",
    "np.random.shuffle(data)\n",
    "\n",
    "data_dev = data[0:1000].T\n",
    "Y_dev = data_dev[0]\n",
    "X_dev = data_dev[1:n]\n",
    "X_dev = X_dev / 255\n",
    "\n",
    "data_train = data[1000:m].T\n",
    "Y_train = data_train[0]\n",
    "X_train = data_train[1:n]\n",
    "X_train = X_train/255\n",
    "_,m_train = X_train.shape"
   ]
  },
  {
   "cell_type": "code",
   "execution_count": 5,
   "id": "a077fbdf",
   "metadata": {
    "execution": {
     "iopub.execute_input": "2024-05-12T13:42:01.725378Z",
     "iopub.status.busy": "2024-05-12T13:42:01.725157Z",
     "iopub.status.idle": "2024-05-12T13:42:01.736147Z",
     "shell.execute_reply": "2024-05-12T13:42:01.735462Z"
    },
    "papermill": {
     "duration": 0.016415,
     "end_time": "2024-05-12T13:42:01.737799",
     "exception": false,
     "start_time": "2024-05-12T13:42:01.721384",
     "status": "completed"
    },
    "tags": []
   },
   "outputs": [],
   "source": [
    "def init_params():\n",
    "    W1 = np.random.normal(size=(10, 784)) * np.sqrt(1./(784))\n",
    "    b1 = np.random.normal(size=(10, 1)) * np.sqrt(1./10)\n",
    "    W2 = np.random.normal(size=(10, 10)) * np.sqrt(1./20)\n",
    "    b2 = np.random.normal(size=(10, 1)) * np.sqrt(1./(784))\n",
    "    return W1, b1, W2, b2\n",
    "\n",
    "def ReLU(Z):\n",
    "    return np.maximum(Z, 0)\n",
    "\n",
    "def softmax(Z):\n",
    "    Z -= np.max(Z, axis=0)  # Subtract max value for numerical stability\n",
    "    A = np.exp(Z) / np.sum(np.exp(Z), axis=0)\n",
    "    return A\n",
    "\n",
    "def forward_prop(W1, b1, W2, b2, X):\n",
    "    Z1=W1.dot(X) + b1\n",
    "    A1=ReLU(Z1)\n",
    "    Z2=W2.dot(A1) + b2\n",
    "    A2=softmax(Z2)\n",
    "    return Z1, A1, Z2, A2\n",
    "\n",
    "def one_hot(Y):\n",
    "    one_hot_Y = np.zeros((Y.size, Y.max()+1))\n",
    "    one_hot_Y[np.arange(Y.size), Y] = 1\n",
    "    one_hot_Y = one_hot_Y.T\n",
    "    return one_hot_Y\n",
    "\n",
    "def deriv_ReLU(Z):\n",
    "    return Z > 0\n",
    "\n",
    "def back_prop(Z1, A1, Z2, A2, W1, W2,X, Y):\n",
    "    m =  Y.size\n",
    "    one_hot_Y = one_hot(Y)\n",
    "    dZ2 = A2 - one_hot_Y\n",
    "    dW2 =  1 / m * dZ2.dot(A1.T)\n",
    "    db2 = 1 / m * np.sum(dZ2)\n",
    "    dZ1 = W2.T.dot(dZ2) * deriv_ReLU(Z1)\n",
    "    dW1 =  1 / m * dZ1.dot(X.T)\n",
    "    db1 = 1 / m * np.sum(dZ1)\n",
    "    return dW1, db1, dW2, db2\n",
    "\n",
    "def update_params(W1, b1, W2, b2, dW1, db1, dW2, db2, alpha):\n",
    "    W1 = W1 - alpha * dW1\n",
    "    b1 = b1 - alpha * db1\n",
    "    W2 = W2 - alpha * dW2\n",
    "    b2 = b2 - alpha * db2\n",
    "    return W1, b1, W2 , b2"
   ]
  },
  {
   "cell_type": "code",
   "execution_count": 6,
   "id": "02f9e144",
   "metadata": {
    "execution": {
     "iopub.execute_input": "2024-05-12T13:42:01.745392Z",
     "iopub.status.busy": "2024-05-12T13:42:01.744948Z",
     "iopub.status.idle": "2024-05-12T13:42:01.751522Z",
     "shell.execute_reply": "2024-05-12T13:42:01.750808Z"
    },
    "papermill": {
     "duration": 0.012192,
     "end_time": "2024-05-12T13:42:01.753256",
     "exception": false,
     "start_time": "2024-05-12T13:42:01.741064",
     "status": "completed"
    },
    "tags": []
   },
   "outputs": [],
   "source": [
    "def get_predictions(A2):\n",
    "    return np.argmax(A2, 0)\n",
    "\n",
    "def get_accuracy(predictions, Y):\n",
    "    print(predictions, Y)\n",
    "    return np.sum(predictions == Y) / Y.size\n",
    "\n",
    "def garadient_descent(X, Y, iterations, alpha):\n",
    "    W1, b1, W2, b2 = init_params()\n",
    "    for i in range(iterations):\n",
    "        Z1, A1, Z2, A2 = forward_prop(W1, b1, W2, b2, X)\n",
    "        dW1, db1, dW2, db2 = back_prop(Z1, A1, Z2, A2,W1, W2, X, Y)\n",
    "        W1, b1, W2 , b2 = update_params(W1, b1, W2, b2, dW1, db1, dW2, db2, alpha)\n",
    "        if i % 10 == 0:\n",
    "            print(\"Iterations: \",i)\n",
    "            predictions = get_predictions(A2) \n",
    "            print(\"Accuracy: \", get_accuracy(predictions, Y))\n",
    "    return W1, b1, W2, b2"
   ]
  },
  {
   "cell_type": "code",
   "execution_count": 7,
   "id": "d96c1d75",
   "metadata": {
    "execution": {
     "iopub.execute_input": "2024-05-12T13:42:01.760618Z",
     "iopub.status.busy": "2024-05-12T13:42:01.760116Z",
     "iopub.status.idle": "2024-05-12T13:42:32.906263Z",
     "shell.execute_reply": "2024-05-12T13:42:32.905531Z"
    },
    "papermill": {
     "duration": 31.152059,
     "end_time": "2024-05-12T13:42:32.908312",
     "exception": false,
     "start_time": "2024-05-12T13:42:01.756253",
     "status": "completed"
    },
    "tags": []
   },
   "outputs": [
    {
     "name": "stdout",
     "output_type": "stream",
     "text": [
      "Iterations:  0\n",
      "[6 6 7 ... 6 6 6] [8 1 2 ... 7 2 0]\n",
      "Accuracy:  0.09546341463414634\n",
      "Iterations:  10\n",
      "[3 1 1 ... 7 6 0] [8 1 2 ... 7 2 0]\n",
      "Accuracy:  0.2824390243902439\n",
      "Iterations:  20\n",
      "[3 1 1 ... 7 6 0] [8 1 2 ... 7 2 0]\n",
      "Accuracy:  0.3968536585365854\n",
      "Iterations:  30\n",
      "[7 1 7 ... 7 6 0] [8 1 2 ... 7 2 0]\n",
      "Accuracy:  0.4650975609756098\n",
      "Iterations:  40\n",
      "[7 1 7 ... 7 6 0] [8 1 2 ... 7 2 0]\n",
      "Accuracy:  0.500780487804878\n",
      "Iterations:  50\n",
      "[8 1 8 ... 7 6 0] [8 1 2 ... 7 2 0]\n",
      "Accuracy:  0.5597560975609757\n",
      "Iterations:  60\n",
      "[8 1 8 ... 7 6 0] [8 1 2 ... 7 2 0]\n",
      "Accuracy:  0.6380975609756098\n",
      "Iterations:  70\n",
      "[8 1 8 ... 7 6 0] [8 1 2 ... 7 2 0]\n",
      "Accuracy:  0.6996585365853658\n",
      "Iterations:  80\n",
      "[8 1 8 ... 7 6 0] [8 1 2 ... 7 2 0]\n",
      "Accuracy:  0.7397073170731707\n",
      "Iterations:  90\n",
      "[8 1 8 ... 7 6 0] [8 1 2 ... 7 2 0]\n",
      "Accuracy:  0.7653658536585366\n",
      "Iterations:  100\n",
      "[8 1 8 ... 7 6 0] [8 1 2 ... 7 2 0]\n",
      "Accuracy:  0.7860975609756098\n",
      "Iterations:  110\n",
      "[8 1 8 ... 7 6 0] [8 1 2 ... 7 2 0]\n",
      "Accuracy:  0.8009024390243903\n",
      "Iterations:  120\n",
      "[8 1 8 ... 7 6 0] [8 1 2 ... 7 2 0]\n",
      "Accuracy:  0.8131951219512195\n",
      "Iterations:  130\n",
      "[8 1 8 ... 7 6 0] [8 1 2 ... 7 2 0]\n",
      "Accuracy:  0.8237560975609756\n",
      "Iterations:  140\n",
      "[8 1 8 ... 7 6 0] [8 1 2 ... 7 2 0]\n",
      "Accuracy:  0.8322682926829268\n",
      "Iterations:  150\n",
      "[8 1 8 ... 7 6 0] [8 1 2 ... 7 2 0]\n",
      "Accuracy:  0.8397560975609756\n",
      "Iterations:  160\n",
      "[8 1 8 ... 7 6 0] [8 1 2 ... 7 2 0]\n",
      "Accuracy:  0.8462439024390244\n",
      "Iterations:  170\n",
      "[8 1 8 ... 7 2 0] [8 1 2 ... 7 2 0]\n",
      "Accuracy:  0.8516341463414634\n",
      "Iterations:  180\n",
      "[8 1 8 ... 7 2 0] [8 1 2 ... 7 2 0]\n",
      "Accuracy:  0.8561951219512195\n",
      "Iterations:  190\n",
      "[8 1 8 ... 7 2 0] [8 1 2 ... 7 2 0]\n",
      "Accuracy:  0.8604878048780488\n",
      "Iterations:  200\n",
      "[8 1 8 ... 7 2 0] [8 1 2 ... 7 2 0]\n",
      "Accuracy:  0.8640243902439024\n",
      "Iterations:  210\n",
      "[8 1 8 ... 7 2 0] [8 1 2 ... 7 2 0]\n",
      "Accuracy:  0.8674146341463415\n",
      "Iterations:  220\n",
      "[8 1 8 ... 7 2 0] [8 1 2 ... 7 2 0]\n",
      "Accuracy:  0.8701463414634146\n",
      "Iterations:  230\n",
      "[8 1 8 ... 7 2 0] [8 1 2 ... 7 2 0]\n",
      "Accuracy:  0.8727317073170732\n",
      "Iterations:  240\n",
      "[8 1 8 ... 7 2 0] [8 1 2 ... 7 2 0]\n",
      "Accuracy:  0.8755121951219512\n",
      "Iterations:  250\n",
      "[8 1 8 ... 7 2 0] [8 1 2 ... 7 2 0]\n",
      "Accuracy:  0.8782926829268293\n",
      "Iterations:  260\n",
      "[8 1 8 ... 7 2 0] [8 1 2 ... 7 2 0]\n",
      "Accuracy:  0.8805853658536585\n",
      "Iterations:  270\n",
      "[8 1 8 ... 7 2 0] [8 1 2 ... 7 2 0]\n",
      "Accuracy:  0.8819268292682927\n",
      "Iterations:  280\n",
      "[8 1 8 ... 7 2 0] [8 1 2 ... 7 2 0]\n",
      "Accuracy:  0.8834878048780488\n",
      "Iterations:  290\n",
      "[8 1 8 ... 7 2 0] [8 1 2 ... 7 2 0]\n",
      "Accuracy:  0.8853170731707317\n",
      "Iterations:  300\n",
      "[8 1 8 ... 7 2 0] [8 1 2 ... 7 2 0]\n",
      "Accuracy:  0.8867317073170732\n",
      "Iterations:  310\n",
      "[8 1 8 ... 7 2 0] [8 1 2 ... 7 2 0]\n",
      "Accuracy:  0.888390243902439\n",
      "Iterations:  320\n",
      "[8 1 8 ... 7 2 0] [8 1 2 ... 7 2 0]\n",
      "Accuracy:  0.8895609756097561\n",
      "Iterations:  330\n",
      "[8 1 8 ... 7 2 0] [8 1 2 ... 7 2 0]\n",
      "Accuracy:  0.8909268292682927\n",
      "Iterations:  340\n",
      "[8 1 8 ... 7 2 0] [8 1 2 ... 7 2 0]\n",
      "Accuracy:  0.8922682926829268\n",
      "Iterations:  350\n",
      "[8 1 8 ... 7 2 0] [8 1 2 ... 7 2 0]\n",
      "Accuracy:  0.8936585365853659\n",
      "Iterations:  360\n",
      "[8 1 8 ... 7 2 0] [8 1 2 ... 7 2 0]\n",
      "Accuracy:  0.8947317073170732\n",
      "Iterations:  370\n",
      "[8 1 8 ... 7 2 0] [8 1 2 ... 7 2 0]\n",
      "Accuracy:  0.8959024390243903\n",
      "Iterations:  380\n",
      "[8 1 8 ... 7 2 0] [8 1 2 ... 7 2 0]\n",
      "Accuracy:  0.8967073170731708\n",
      "Iterations:  390\n",
      "[8 1 8 ... 7 2 0] [8 1 2 ... 7 2 0]\n",
      "Accuracy:  0.8975121951219512\n",
      "Iterations:  400\n",
      "[8 1 8 ... 7 2 0] [8 1 2 ... 7 2 0]\n",
      "Accuracy:  0.8982439024390244\n",
      "Iterations:  410\n",
      "[8 1 8 ... 7 2 0] [8 1 2 ... 7 2 0]\n",
      "Accuracy:  0.8990487804878049\n",
      "Iterations:  420\n",
      "[8 1 8 ... 7 2 0] [8 1 2 ... 7 2 0]\n",
      "Accuracy:  0.8996829268292683\n",
      "Iterations:  430\n",
      "[8 1 8 ... 7 2 0] [8 1 2 ... 7 2 0]\n",
      "Accuracy:  0.900390243902439\n",
      "Iterations:  440\n",
      "[8 1 8 ... 7 2 0] [8 1 2 ... 7 2 0]\n",
      "Accuracy:  0.9010975609756098\n",
      "Iterations:  450\n",
      "[8 1 8 ... 7 2 0] [8 1 2 ... 7 2 0]\n",
      "Accuracy:  0.9015365853658537\n",
      "Iterations:  460\n",
      "[8 1 8 ... 7 2 0] [8 1 2 ... 7 2 0]\n",
      "Accuracy:  0.9020975609756098\n",
      "Iterations:  470\n",
      "[8 1 8 ... 7 2 0] [8 1 2 ... 7 2 0]\n",
      "Accuracy:  0.902829268292683\n",
      "Iterations:  480\n",
      "[8 1 8 ... 7 2 0] [8 1 2 ... 7 2 0]\n",
      "Accuracy:  0.9034634146341464\n",
      "Iterations:  490\n",
      "[8 1 8 ... 7 2 0] [8 1 2 ... 7 2 0]\n",
      "Accuracy:  0.9041219512195122\n"
     ]
    }
   ],
   "source": [
    "W1, b1, W2, b2 = garadient_descent(X_train, Y_train, 500, 0.1)"
   ]
  },
  {
   "cell_type": "code",
   "execution_count": 8,
   "id": "04570535",
   "metadata": {
    "execution": {
     "iopub.execute_input": "2024-05-12T13:42:32.924531Z",
     "iopub.status.busy": "2024-05-12T13:42:32.923936Z",
     "iopub.status.idle": "2024-05-12T13:42:32.931304Z",
     "shell.execute_reply": "2024-05-12T13:42:32.930672Z"
    },
    "papermill": {
     "duration": 0.017425,
     "end_time": "2024-05-12T13:42:32.933284",
     "exception": false,
     "start_time": "2024-05-12T13:42:32.915859",
     "status": "completed"
    },
    "tags": []
   },
   "outputs": [],
   "source": [
    "def make_predictions(X, W1, b1, W2, b2):\n",
    "    _, _, _, A2 = forward_prop(W1, b1, W2, b2, X)\n",
    "    predictions = get_predictions(A2)\n",
    "    return predictions\n",
    "\n",
    "def test_prediction(index, W1, b1, W2, b2):\n",
    "    current_image = X_train[:, index, None]\n",
    "    prediction = make_predictions(X_train[:, index, None], W1, b1, W2, b2)\n",
    "    label = Y_train[index]\n",
    "    print(\"Prediction: \", prediction)\n",
    "    print(\"Label: \", label)\n",
    "    \n",
    "    current_image = current_image.reshape((28, 28)) * 255\n",
    "    plt.gray()\n",
    "    plt.imshow(current_image, interpolation='nearest')\n",
    "    plt.show()"
   ]
  },
  {
   "cell_type": "code",
   "execution_count": 9,
   "id": "26eb04c4",
   "metadata": {
    "execution": {
     "iopub.execute_input": "2024-05-12T13:42:32.949755Z",
     "iopub.status.busy": "2024-05-12T13:42:32.949482Z",
     "iopub.status.idle": "2024-05-12T13:42:33.454493Z",
     "shell.execute_reply": "2024-05-12T13:42:33.453587Z"
    },
    "papermill": {
     "duration": 0.515221,
     "end_time": "2024-05-12T13:42:33.456308",
     "exception": false,
     "start_time": "2024-05-12T13:42:32.941087",
     "status": "completed"
    },
    "tags": []
   },
   "outputs": [
    {
     "name": "stdout",
     "output_type": "stream",
     "text": [
      "Prediction:  [8]\n",
      "Label:  8\n"
     ]
    },
    {
     "data": {
      "image/png": "[encoded data removed]",
      "text/plain": [
       "<Figure size 640x480 with 1 Axes>"
      ]
     },
     "metadata": {},
     "output_type": "display_data"
    },
    {
     "name": "stdout",
     "output_type": "stream",
     "text": [
      "Prediction:  [1]\n",
      "Label:  1\n"
     ]
    },
    {
     "data": {
      "image/png": "[encoded data removed]",
      "text/plain": [
       "<Figure size 640x480 with 1 Axes>"
      ]
     },
     "metadata": {},
     "output_type": "display_data"
    },
    {
     "name": "stdout",
     "output_type": "stream",
     "text": [
      "Prediction:  [8]\n",
      "Label:  2\n"
     ]
    },
    {
     "data": {
      "image/png": "[encoded data removed]",
      "text/plain": [
       "<Figure size 640x480 with 1 Axes>"
      ]
     },
     "metadata": {},
     "output_type": "display_data"
    },
    {
     "name": "stdout",
     "output_type": "stream",
     "text": [
      "Prediction:  [1]\n",
      "Label:  1\n"
     ]
    },
    {
     "data": {
      "image/png": "[encoded data removed]",
      "text/plain": [
       "<Figure size 640x480 with 1 Axes>"
      ]
     },
     "metadata": {},
     "output_type": "display_data"
    }
   ],
   "source": [
    "test_prediction(0, W1, b1, W2, b2)\n",
    "test_prediction(1, W1, b1, W2, b2)\n",
    "test_prediction(2, W1, b1, W2, b2)\n",
    "test_prediction(3, W1, b1, W2, b2)"
   ]
  },
  {
   "cell_type": "code",
   "execution_count": 10,
   "id": "7b817f69",
   "metadata": {
    "execution": {
     "iopub.execute_input": "2024-05-12T13:42:33.470833Z",
     "iopub.status.busy": "2024-05-12T13:42:33.470557Z",
     "iopub.status.idle": "2024-05-12T13:42:33.487311Z",
     "shell.execute_reply": "2024-05-12T13:42:33.486675Z"
    },
    "papermill": {
     "duration": 0.026145,
     "end_time": "2024-05-12T13:42:33.489185",
     "exception": false,
     "start_time": "2024-05-12T13:42:33.463040",
     "status": "completed"
    },
    "tags": []
   },
   "outputs": [
    {
     "name": "stdout",
     "output_type": "stream",
     "text": [
      "[5 5 2 0 2 6 5 6 8 6 6 7 8 2 8 6 9 1 1 4 8 2 7 8 8 7 2 6 2 4 9 9 4 7 6 1 9\n",
      " 5 8 6 3 7 7 8 7 9 3 3 0 3 2 8 9 3 4 0 0 9 6 3 5 8 9 4 1 6 0 7 9 4 2 2 0 1\n",
      " 2 5 0 5 0 5 3 4 8 9 9 1 9 6 7 5 6 8 6 7 3 0 9 3 0 9 0 0 8 1 5 5 0 8 4 3 9\n",
      " 9 6 3 9 5 9 3 6 8 0 1 1 1 9 3 4 5 0 5 4 3 7 1 9 9 0 9 5 5 6 0 5 8 9 8 1 2\n",
      " 3 0 8 7 0 2 7 6 5 4 0 9 0 0 8 7 9 8 2 3 7 8 5 0 9 3 6 1 5 9 7 5 0 1 6 7 2\n",
      " 1 6 9 3 9 9 8 3 2 9 6 9 2 6 7 9 0 3 6 4 4 9 6 3 4 9 3 6 7 7 4 9 7 9 1 6 7\n",
      " 8 1 8 6 0 5 9 4 1 0 1 1 4 4 8 8 1 8 4 2 1 7 3 0 6 6 2 7 6 2 2 4 1 7 1 7 4\n",
      " 7 3 6 0 4 6 2 4 5 0 1 1 4 9 9 6 6 3 0 1 8 6 0 6 7 8 8 9 7 7 0 9 4 5 5 6 6\n",
      " 0 7 9 0 0 7 1 0 1 5 8 8 6 1 2 9 5 8 9 4 9 1 7 9 0 3 4 4 8 9 1 0 9 6 8 0 1\n",
      " 0 0 2 8 0 7 9 0 2 9 6 3 3 2 0 3 5 0 1 8 2 6 8 9 8 9 3 5 0 3 7 5 3 0 9 0 7\n",
      " 1 0 7 1 4 7 8 0 3 2 3 7 1 6 1 7 7 3 7 1 8 7 1 1 2 4 0 4 3 0 8 8 7 2 2 1 4\n",
      " 6 6 8 1 2 0 2 7 5 6 3 9 1 0 7 7 3 2 6 3 1 4 0 7 6 1 5 0 9 2 5 2 0 1 2 3 5\n",
      " 4 0 4 5 6 1 1 2 2 2 1 2 4 4 4 6 3 2 0 2 0 5 4 6 3 7 2 9 2 8 4 1 2 1 2 7 5\n",
      " 1 4 2 1 7 1 6 3 3 1 1 9 2 6 3 8 1 1 7 1 4 5 9 5 0 7 9 6 5 7 5 7 3 6 1 1 7\n",
      " 2 6 9 1 6 3 2 7 9 4 2 8 9 5 1 6 5 1 6 3 2 7 7 0 4 6 8 0 4 5 2 8 2 7 4 0 3\n",
      " 6 4 2 7 9 7 0 8 6 3 2 8 2 9 0 3 1 8 0 8 9 1 7 0 5 0 4 5 3 6 0 3 6 6 0 5 0\n",
      " 6 1 4 6 1 8 9 6 6 4 6 2 8 2 4 2 2 0 8 7 4 0 4 6 9 1 5 6 4 1 7 5 2 0 2 4 8\n",
      " 2 9 6 5 8 5 6 2 5 3 1 6 9 6 3 1 2 6 1 4 3 1 9 8 9 5 3 4 2 3 6 3 3 4 0 7 4\n",
      " 1 0 6 9 1 1 3 5 3 0 6 9 0 2 8 4 9 6 7 3 9 2 2 6 7 1 9 0 7 9 6 7 6 7 7 3 5\n",
      " 6 1 8 5 3 5 2 8 3 9 5 9 9 7 2 6 0 0 8 1 9 3 7 6 4 8 6 3 4 8 9 8 7 7 0 7 6\n",
      " 6 9 3 5 8 6 6 2 3 3 8 5 8 5 0 1 2 8 3 3 4 3 3 4 4 1 7 2 1 9 5 3 8 2 2 3 0\n",
      " 9 1 7 1 0 1 1 3 4 0 8 8 1 7 7 1 3 1 2 7 0 0 3 9 0 4 8 7 5 4 9 5 9 8 9 8 4\n",
      " 8 9 4 5 6 0 4 1 0 5 9 7 2 5 8 9 8 2 0 3 2 8 3 3 9 4 7 4 3 6 6 3 6 6 9 7 7\n",
      " 1 4 0 2 6 6 9 2 6 6 0 6 6 6 9 2 1 1 5 6 0 6 1 4 0 2 8 9 8 0 8 8 4 1 2 3 9\n",
      " 7 3 3 1 5 4 0 6 1 2 0 0 6 3 4 0 3 0 2 1 9 0 2 2 3 9 3 4 8 9 2 1 7 1 0 1 8\n",
      " 9 0 1 8 6 5 6 8 8 9 5 1 3 7 4 6 5 6 6 9 0 7 9 1 8 6 1 0 3 1 5 2 9 2 2 5 1\n",
      " 7 8 8 6 3 7 6 2 5 3 2 4 3 1 1 6 5 8 8 7 2 4 2 4 9 7 3 7 7 4 1 2 6 0 6 7 7\n",
      " 9] [5 5 2 0 2 6 0 6 5 6 6 7 8 2 8 6 9 1 1 4 8 2 7 8 8 7 2 6 7 4 9 9 4 7 6 1 9\n",
      " 5 8 6 3 9 7 8 7 9 3 3 0 3 2 8 9 3 4 0 0 9 6 3 5 8 9 4 1 6 0 7 9 4 2 2 0 1\n",
      " 2 5 0 5 0 5 1 4 8 9 9 1 9 6 2 5 6 8 6 7 8 0 9 3 0 9 0 0 8 1 5 5 0 8 4 3 9\n",
      " 9 6 3 9 5 9 3 6 5 0 1 1 1 9 3 4 5 0 5 4 3 7 1 9 9 0 9 3 1 6 0 5 8 9 8 1 2\n",
      " 3 5 8 3 7 2 7 6 5 9 0 9 0 0 8 7 9 8 2 3 7 8 5 0 9 3 6 1 5 9 8 5 0 1 6 7 2\n",
      " 1 6 9 3 9 9 8 3 3 9 6 9 2 6 7 9 0 3 6 4 4 9 6 3 4 9 3 6 7 7 4 9 7 9 1 5 7\n",
      " 8 7 5 6 0 5 9 4 1 0 1 1 4 4 5 8 1 8 4 2 1 7 9 0 6 6 2 7 6 2 2 4 1 7 1 7 4\n",
      " 9 3 6 0 4 6 2 4 5 0 1 1 4 9 9 6 6 3 0 1 8 6 0 6 7 8 8 9 7 7 0 3 4 5 5 6 6\n",
      " 0 7 7 0 0 3 1 0 1 5 8 8 6 1 2 9 5 8 9 4 9 1 7 7 0 3 4 4 8 9 1 0 9 6 8 0 1\n",
      " 0 0 2 8 0 7 9 0 2 9 6 3 3 2 0 3 8 0 1 8 2 6 8 9 7 9 3 5 0 3 7 5 3 0 9 0 7\n",
      " 1 0 7 1 4 7 8 0 3 2 3 7 1 6 1 7 7 9 7 1 4 7 1 1 2 4 0 4 3 0 8 8 7 2 2 1 4\n",
      " 6 6 3 1 2 0 2 7 5 6 3 5 1 5 7 7 3 2 6 5 1 4 0 7 6 1 3 0 9 2 5 2 0 1 2 3 5\n",
      " 4 0 4 5 6 1 1 2 2 2 1 2 5 4 6 6 3 2 0 2 0 3 4 6 3 7 2 9 2 8 4 1 2 1 2 7 5\n",
      " 1 4 2 1 7 1 6 3 3 1 1 9 2 2 3 8 1 1 7 1 4 5 9 5 0 7 9 6 5 7 5 7 3 6 1 1 7\n",
      " 3 6 9 1 6 3 2 7 9 4 2 8 9 5 1 6 5 1 6 3 2 7 7 0 4 6 8 0 4 5 6 4 2 7 4 0 3\n",
      " 6 4 2 7 9 7 0 8 6 3 2 8 2 9 0 3 1 8 0 8 9 1 7 0 5 0 4 5 3 6 0 3 8 6 0 5 0\n",
      " 6 1 4 6 1 5 9 6 6 4 6 2 8 3 8 2 2 0 8 7 4 0 4 6 9 1 5 6 4 1 3 5 2 0 2 6 8\n",
      " 2 9 6 5 8 3 6 2 5 3 1 5 9 6 3 1 2 6 1 4 3 1 9 8 9 5 3 4 2 3 6 3 3 4 0 7 4\n",
      " 1 2 6 9 1 1 3 5 3 0 6 9 0 2 8 4 9 6 7 3 9 2 2 6 7 1 9 0 7 9 3 7 6 7 7 3 5\n",
      " 6 1 8 5 1 5 2 8 3 9 5 8 9 2 2 6 0 0 8 1 9 3 7 6 4 8 6 3 4 0 9 8 7 7 0 7 6\n",
      " 6 9 3 0 8 6 6 2 5 3 0 5 8 3 0 1 2 8 3 3 4 6 3 7 4 1 7 2 1 9 5 3 8 0 2 3 0\n",
      " 9 1 7 1 0 1 1 3 4 0 8 8 1 7 7 1 3 1 2 7 0 0 3 2 0 4 8 7 5 0 9 5 9 8 9 8 4\n",
      " 6 9 4 5 6 0 4 1 0 5 9 7 2 5 8 9 8 2 0 3 4 8 3 3 9 4 7 4 3 6 6 3 6 4 9 7 7\n",
      " 1 4 0 2 6 8 9 2 6 6 0 6 6 6 9 2 1 1 6 6 0 5 1 6 0 2 8 9 8 0 8 8 4 1 2 3 9\n",
      " 9 3 3 1 5 4 0 6 1 2 0 0 6 3 4 0 3 0 2 1 9 0 2 2 3 9 3 4 8 9 2 1 7 1 0 1 8\n",
      " 9 0 1 8 6 1 5 8 8 9 5 1 3 7 7 6 5 6 2 9 0 7 9 1 8 6 1 0 3 1 5 8 9 8 2 5 1\n",
      " 7 6 8 3 3 7 6 2 5 8 2 4 3 1 1 6 5 8 8 7 2 4 2 4 9 7 3 7 7 4 1 2 6 0 6 7 7\n",
      " 9]\n"
     ]
    },
    {
     "data": {
      "text/plain": [
       "0.918"
      ]
     },
     "execution_count": 10,
     "metadata": {},
     "output_type": "execute_result"
    }
   ],
   "source": [
    "dev_predictions = make_predictions(X_dev, W1, b1, W2, b2)\n",
    "get_accuracy(dev_predictions, Y_dev)"
   ]
  },
  {
   "cell_type": "code",
   "execution_count": null,
   "id": "7d58c295",
   "metadata": {
    "papermill": {
     "duration": 0.008474,
     "end_time": "2024-05-12T13:42:33.507046",
     "exception": false,
     "start_time": "2024-05-12T13:42:33.498572",
     "status": "completed"
    },
    "tags": []
   },
   "outputs": [],
   "source": []
  }
 ],
 "metadata": {
  "kaggle": {
   "accelerator": "none",
   "dataSources": [
    {
     "databundleVersionId": 861823,
     "sourceId": 3004,
     "sourceType": "competition"
    }
   ],
   "dockerImageVersionId": 30646,
   "isGpuEnabled": false,
   "isInternetEnabled": false,
   "language": "python",
   "sourceType": "notebook"
  },
  "kernelspec": {
   "display_name": "Python 3",
   "language": "python",
   "name": "python3"
  },
  "language_info": {
   "codemirror_mode": {
    "name": "ipython",
    "version": 3
   },
   "file_extension": ".py",
   "mimetype": "text/x-python",
   "name": "python",
   "nbconvert_exporter": "python",
   "pygments_lexer": "ipython3",
   "version": "3.10.13"
  },
  "papermill": {
   "default_parameters": {},
   "duration": 37.833042,
   "end_time": "2024-05-12T13:42:33.847260",
   "environment_variables": {},
   "exception": null,
   "input_path": "__notebook__.ipynb",
   "output_path": "__notebook__.ipynb",
   "parameters": {},
   "start_time": "2024-05-12T13:41:56.014218",
   "version": "2.5.0"
  }
 },
 "nbformat": 4,
 "nbformat_minor": 5
}
